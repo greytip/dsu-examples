{
 "cells": [
  {
   "cell_type": "code",
   "execution_count": null,
   "metadata": {
    "ExecuteTime": {
     "end_time": "2016-11-10T12:22:22.544310",
     "start_time": "2016-11-10T12:22:18.377066"
    },
    "collapsed": false,
    "scrolled": false
   },
   "outputs": [],
   "source": [
    "# Custom libraries\n",
    "from datascienceutils import plotter\n",
    "from datascienceutils import analyze\n",
    "\n",
    "# Standard libraries\n",
    "import json\n",
    "%matplotlib inline\n",
    "import datetime\n",
    "import numpy as np\n",
    "import pandas as pd\n",
    "import random\n",
    "\n",
    "from sklearn import cross_validation\n",
    "from sklearn import metrics\n",
    "\n",
    "from bokeh.plotting import figure, show, output_file, output_notebook, ColumnDataSource\n",
    "from bokeh.charts import Histogram\n",
    "import bokeh\n",
    "output_notebook(bokeh.resources.INLINE)\n",
    "\n",
    "from sqlalchemy import create_engine"
   ]
  },
  {
   "cell_type": "markdown",
   "metadata": {},
   "source": [
    "## Data Source/Background:  We have data about measurements of flowers from species belonging to a particular genus.()"
   ]
  },
  {
   "cell_type": "code",
   "execution_count": null,
   "metadata": {
    "ExecuteTime": {
     "end_time": "2016-11-10T12:22:24.021021",
     "start_time": "2016-11-10T12:22:22.547380"
    },
    "collapsed": false,
    "scrolled": false
   },
   "outputs": [],
   "source": [
    "headers = ['SepalLengthCm', 'SepalWidthCm', 'PetalLengthCm', 'PetalWidthCm',\n",
    "       'Species']\n",
    "\n",
    "irisDf = pd.read_csv('http://archive.ics.uci.edu/ml/machine-learning-databases/iris/iris.data', names=headers)\n"
   ]
  },
  {
   "cell_type": "markdown",
   "metadata": {},
   "source": [
    "## Ok data loaded now let's assume we know nothing of patterns in this data and take a peek"
   ]
  },
  {
   "cell_type": "code",
   "execution_count": null,
   "metadata": {
    "ExecuteTime": {
     "end_time": "2016-11-10T12:22:24.147036",
     "start_time": "2016-11-10T12:22:24.023698"
    },
    "collapsed": false,
    "scrolled": false
   },
   "outputs": [],
   "source": [
    "irisDf.describe()"
   ]
  },
  {
   "cell_type": "code",
   "execution_count": null,
   "metadata": {
    "ExecuteTime": {
     "end_time": "2016-11-10T12:22:24.313378",
     "start_time": "2016-11-10T12:22:24.149574"
    },
    "collapsed": false,
    "scrolled": false
   },
   "outputs": [],
   "source": [
    "irisDf.head()"
   ]
  },
  {
   "cell_type": "markdown",
   "metadata": {},
   "source": [
    "## Ok we have 4 numerical columns and a categorical column. \n",
    "## Can we see any correlation among the numericals?"
   ]
  },
  {
   "cell_type": "code",
   "execution_count": null,
   "metadata": {
    "ExecuteTime": {
     "end_time": "2016-11-10T12:22:24.595571",
     "start_time": "2016-11-10T12:22:24.315408"
    },
    "collapsed": false,
    "scrolled": false
   },
   "outputs": [],
   "source": [
    "irisDf.corr()"
   ]
  },
  {
   "cell_type": "markdown",
   "metadata": {},
   "source": [
    "## Hmm.. We have a few +ve correlations  like (PetalLength vs SepalLength, PetalWidth vs PetalLength etc..)\n",
    "\n",
    "The intra petal and intra sepal make sense. As the size of the flower will correspond to petal length and petal width. (same for sepal length and width). \n",
    "\n",
    "However the PetalLength vs SepalLength is new.. Come to think of it, what counts as petal and what is a sepal??\n",
    "\n",
    "[Petal](https://en.wikipedia.org/wiki/Petal)\n",
    "[Sepal](https://en.wikipedia.org/wiki/Sepal)\n",
    "\n",
    "## That makes sense since sepal is a leaf-like part that supports the flower, if the flower is bigger the support also has to be bigger. Let's move on to see more."
   ]
  },
  {
   "cell_type": "code",
   "execution_count": null,
   "metadata": {
    "ExecuteTime": {
     "end_time": "2016-11-10T12:34:36.826673",
     "start_time": "2016-11-10T12:34:36.519695"
    },
    "collapsed": false,
    "scrolled": false
   },
   "outputs": [],
   "source": [
    "analyze.correlation_analyze(irisDf, exclude_columns='Id', \n",
    "                                categories=['Species'], \n",
    "                                measure=['SepalLengthCm','SepalWidthCm',\n",
    "                                           'PetalLengthCm', 'PetalWidthCm'])"
   ]
  },
  {
   "cell_type": "markdown",
   "metadata": {},
   "source": [
    "## Independence Assumptions:\n",
    "  One interesting advantage of using scatter plots in this case is that we can make judgements about the [Independence](https://www.quora.com/Why-is-the-assumption-of-independence-so-important-for-statistical-analysis) of variables involved.\n",
    "  For ex: If you look at the PetalWidth vs SepalWidth plot, you'll see there's anything but linear correlation among them. it's almost as if the data points are avoiding anything like a positive correlation that it's funny. So if you conclude that these two variables are completely independant you'd be wrong. \n",
    "  However, within the clusters that are obvious in the plots there's a some correlation between the two variables, which agrees with common-sense. In this case we have the case of clustering confusing the interpretation of independence.\n",
    "  \n",
    "  As an exercise for the reader, find the other two variables that display a similar pattern."
   ]
  },
  {
   "cell_type": "markdown",
   "metadata": {},
   "source": [
    "## That petallength vs sepallength looks interesting.. they correlate linearly after a certain threshold, but not before that. Might be species mixed up data,  but it does make sense that the sepals serving only a support role might not grow till a threshold level is reached for the flower size.\n",
    "\n",
    "## The petal Length vs SepalWidth suggests there are two species atleast.. same from PetalWidth vs PetalLength \n",
    "\n",
    "## Let's look at the distributions\n"
   ]
  },
  {
   "cell_type": "code",
   "execution_count": null,
   "metadata": {
    "ExecuteTime": {
     "end_time": "2016-11-10T12:22:26.856525",
     "start_time": "2016-11-10T12:22:25.119691"
    },
    "collapsed": false,
    "scrolled": false
   },
   "outputs": [],
   "source": [
    "analyze.dist_analyze(irisDf, 'PetalLengthCm')"
   ]
  },
  {
   "cell_type": "markdown",
   "metadata": {},
   "source": [
    "## Aha.. There you go there's clearly atleast two different clusters/species based on PetalLength alone.  Let's look at SepalWidth next"
   ]
  },
  {
   "cell_type": "code",
   "execution_count": null,
   "metadata": {
    "ExecuteTime": {
     "end_time": "2016-11-10T12:22:27.065538",
     "start_time": "2016-11-10T12:22:26.859195"
    },
    "collapsed": false
   },
   "outputs": [],
   "source": [
    "analyze.dist_analyze(irisDf, 'SepalWidthCm')"
   ]
  },
  {
   "cell_type": "markdown",
   "metadata": {},
   "source": [
    "## Hmm. how about sepalLength"
   ]
  },
  {
   "cell_type": "code",
   "execution_count": null,
   "metadata": {
    "ExecuteTime": {
     "end_time": "2016-11-10T12:22:27.320762",
     "start_time": "2016-11-10T12:22:27.067376"
    },
    "collapsed": false
   },
   "outputs": [],
   "source": [
    "analyze.dist_analyze(irisDf, 'SepalLengthCm')"
   ]
  },
  {
   "cell_type": "markdown",
   "metadata": {},
   "source": [
    "## So we can't distinguish the clusters/Species by Sepal size.  Let's do some cluster analysis. "
   ]
  },
  {
   "cell_type": "code",
   "execution_count": null,
   "metadata": {
    "ExecuteTime": {
     "end_time": "2016-11-10T12:22:27.383636",
     "start_time": "2016-11-10T12:22:27.323496"
    },
    "collapsed": false
   },
   "outputs": [],
   "source": [
    "## First see how many species are labeled\n",
    "irisDf.Species.unique()"
   ]
  },
  {
   "cell_type": "code",
   "execution_count": null,
   "metadata": {
    "ExecuteTime": {
     "end_time": "2016-11-10T12:22:31.906193",
     "start_time": "2016-11-10T12:22:27.386286"
    },
    "collapsed": false,
    "scrolled": false
   },
   "outputs": [],
   "source": [
    "## It seems 3.. Let's see if our algorithms can find it. \n",
    "tempDf = irisDf.copy(deep=True)\n",
    "tempDf.drop(['Species'], 1, inplace=True)\n",
    "analyze.silhouette_analyze(tempDf, cluster_type='KMeans')"
   ]
  },
  {
   "cell_type": "markdown",
   "metadata": {},
   "source": [
    "   ## Hmm.. That's interesting... The silhouette score keeps falling even after clustering with 4 clusters. So it is clear we should finalize a cluster number < 4\n",
    "   ## From the scatter plot both 2 and 4 clusters look believable let's try again with 3 clusters.\n"
   ]
  },
  {
   "cell_type": "code",
   "execution_count": null,
   "metadata": {
    "ExecuteTime": {
     "end_time": "2016-11-10T12:22:33.041750",
     "start_time": "2016-11-10T12:22:31.907503"
    },
    "collapsed": false
   },
   "outputs": [],
   "source": [
    "analyze.silhouette_analyze(tempDf, cluster_type='dbscan', n_clusters=range(2,4))"
   ]
  },
  {
   "cell_type": "code",
   "execution_count": null,
   "metadata": {
    "ExecuteTime": {
     "end_time": "2016-11-10T12:22:34.274358",
     "start_time": "2016-11-10T12:22:33.043102"
    },
    "collapsed": false
   },
   "outputs": [],
   "source": [
    "analyze.silhouette_analyze(tempDf, cluster_type='birch', n_clusters=range(2,4))"
   ]
  },
  {
   "cell_type": "markdown",
   "metadata": {},
   "source": [
    "## Purely by the algorithm and silhouette score(higher ==> better clustering.), we think there should be 2 clusters. However based on the Species labels there are 3-clusters.\n",
    "\n",
    " So we'll have to conclude either \n",
    "        * uneven distribution of data samples within clusters\n",
    "        * algorithmic issues/inefficiency (try dbscan or other clustering) \n",
    "        * Two of the species are simply too close in the flower based  measures, but different by other plant characteristics so not captured in this data"
   ]
  },
  {
   "cell_type": "code",
   "execution_count": null,
   "metadata": {
    "ExecuteTime": {
     "end_time": "2016-11-10T12:22:34.319334",
     "start_time": "2016-11-10T12:22:34.276456"
    },
    "collapsed": false
   },
   "outputs": [],
   "source": [
    "# Testing the first case\n",
    "irisDf.groupby('Species').count()"
   ]
  },
  {
   "cell_type": "code",
   "execution_count": null,
   "metadata": {
    "ExecuteTime": {
     "end_time": "2016-11-10T12:22:36.422023",
     "start_time": "2016-11-10T12:22:34.321651"
    },
    "collapsed": false
   },
   "outputs": [],
   "source": [
    "## Spectral clustering can other \n",
    "analyze.silhouette_analyze(tempDf, cluster_type='dbscan', n_clusters=range(2,5))"
   ]
  },
  {
   "cell_type": "code",
   "execution_count": null,
   "metadata": {
    "ExecuteTime": {
     "end_time": "2016-11-10T12:22:38.180335",
     "start_time": "2016-11-10T12:22:36.426295"
    },
    "collapsed": false
   },
   "outputs": [],
   "source": [
    "# Testing the second case\n",
    "analyze.silhouette_analyze(tempDf, cluster_type='spectral', n_clusters=range(2,4))"
   ]
  },
  {
   "cell_type": "markdown",
   "metadata": {},
   "source": [
    "## Now let's return to the Regression we saw between PetalLength vs SepalLength"
   ]
  },
  {
   "cell_type": "code",
   "execution_count": null,
   "metadata": {
    "ExecuteTime": {
     "end_time": "2016-11-10T12:22:38.409717",
     "start_time": "2016-11-10T12:22:38.181679"
    },
    "collapsed": false,
    "scrolled": true
   },
   "outputs": [],
   "source": [
    "analyze.regression_analyze(irisDf, 'SepalLengthCm', 'PetalLengthCm')"
   ]
  },
  {
   "cell_type": "markdown",
   "metadata": {},
   "source": [
    "## Ok there's a clear distinction between the two clusters and in one of them we can simply predict PetalLength based on SepalLength \n",
    "\n",
    "## Unfortunately, this is one of those insights/patterns that's not likely to be useful for this data set. \n",
    "\n",
    "## I mean who wants to predict a flower's sepal length based on it's petal Length?? I mean, we can just measure the sepalLength too.. \n",
    "\n",
    "## Ah.. perhaps if we are a species millions of times smaller than the flower and measuring is of very highly costly...  \n",
    "\n",
    "## Aka... if these were galaxies instead of flowers then predicion of Sepal length would be useful."
   ]
  },
  {
   "cell_type": "code",
   "execution_count": null,
   "metadata": {
    "collapsed": true,
    "scrolled": false
   },
   "outputs": [],
   "source": []
  }
 ],
 "metadata": {
  "anaconda-cloud": {},
  "kernelspec": {
   "display_name": "Python 3",
   "language": "python",
   "name": "python3"
  },
  "language_info": {
   "codemirror_mode": {
    "name": "ipython",
    "version": 3
   },
   "file_extension": ".py",
   "mimetype": "text/x-python",
   "name": "python",
   "nbconvert_exporter": "python",
   "pygments_lexer": "ipython3",
   "version": "3.5.2"
  },
  "latex_envs": {
   "bibliofile": "biblio.bib",
   "cite_by": "apalike",
   "current_citInitial": 1,
   "eqLabelWithNumbers": true,
   "eqNumInitial": 0
  }
 },
 "nbformat": 4,
 "nbformat_minor": 0
}
